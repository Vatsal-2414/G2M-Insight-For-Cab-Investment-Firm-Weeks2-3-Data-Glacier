{
 "cells": [
  {
   "cell_type": "code",
   "execution_count": 1,
   "metadata": {},
   "outputs": [],
   "source": [
    "# G2M insight for Cab Investment firm\n",
    "import pandas as pd\n",
    "import numpy as np\n",
    "import datetime\n",
    "\n",
    "ride_data = pd.read_csv('~/Downloads/Cab_Data.csv')\n",
    "city_data = pd.read_csv('~/Downloads/City.csv')\n",
    "customer_data = pd.read_csv('~/Downloads/Customer_ID.csv')\n",
    "transaction_data = pd.read_csv('~/Downloads/Transaction_ID.csv')\n"
   ]
  },
  {
   "cell_type": "code",
   "execution_count": 2,
   "metadata": {},
   "outputs": [
    {
     "name": "stdout",
     "output_type": "stream",
     "text": [
      "   Transaction ID  Date of Travel   Company        City  KM Travelled  \\\n",
      "0        10000011           42377  Pink Cab  ATLANTA GA         30.45   \n",
      "1        10000012           42375  Pink Cab  ATLANTA GA         28.62   \n",
      "2        10000013           42371  Pink Cab  ATLANTA GA          9.04   \n",
      "3        10000014           42376  Pink Cab  ATLANTA GA         33.17   \n",
      "4        10000015           42372  Pink Cab  ATLANTA GA          8.73   \n",
      "\n",
      "   Price Charged  Cost of Trip  \n",
      "0         370.95       313.635  \n",
      "1         358.52       334.854  \n",
      "2         125.20        97.632  \n",
      "3         377.40       351.602  \n",
      "4         114.62        97.776  \n",
      "<class 'pandas.core.frame.DataFrame'>\n",
      "RangeIndex: 359392 entries, 0 to 359391\n",
      "Data columns (total 7 columns):\n",
      "Transaction ID    359392 non-null int64\n",
      "Date of Travel    359392 non-null int64\n",
      "Company           359392 non-null object\n",
      "City              359392 non-null object\n",
      "KM Travelled      359392 non-null float64\n",
      "Price Charged     359392 non-null float64\n",
      "Cost of Trip      359392 non-null float64\n",
      "dtypes: float64(3), int64(2), object(2)\n",
      "memory usage: 19.2+ MB\n",
      "None\n"
     ]
    }
   ],
   "source": [
    "#------ Data exploration ------\n",
    "# -- Cab data --\n",
    "'''\n",
    "Data for transaction of 2 cab companies.\n",
    "Every ride with a Yellow/Pink cab in a City, total KM travelled, the price charged by the cab driver and the actual\n",
    "cost of the trip.\n",
    "'''\n",
    "\n",
    "print(ride_data.head())\n",
    "print(ride_data.info())\n",
    "\n",
    "## Total number of data points = 359392; Total no. of features = 7\n",
    "## No missing data\n",
    "## 'Date of Travel' - is int64 datatype. Excel converted date into a 5-digit serial number.\n",
    "##                    The 5-digit number represents the number of days since 1899/12/30. [Check bookmarked webpage.]\n",
    "\n",
    "# Converting 'Date of Travel' to datetime format\n",
    "excel_dates = ride_data['Date of Travel']\n",
    "new_date_col = []\n",
    "for d in excel_dates:\n",
    "    temp = datetime.date(1899,12,30) + datetime.timedelta(float(d))\n",
    "    new_date_col.append(temp.strftime('%Y-%m-%d'))\n",
    "    \n",
    "ride_data['Travel_Date'] = new_date_col\n",
    "\n",
    "# Shift Travel Data column to first\n",
    "first_col = ride_data.pop('Travel_Date')\n",
    "ride_data.insert(0, 'Travel_Date', first_col)\n",
    "# print(ride_data.head())"
   ]
  },
  {
   "cell_type": "code",
   "execution_count": 3,
   "metadata": {},
   "outputs": [
    {
     "name": "stdout",
     "output_type": "stream",
     "text": [
      "             City   Population      Users\n",
      "0     NEW YORK NY   8,405,837    302,149 \n",
      "1      CHICAGO IL   1,955,130    164,468 \n",
      "2  LOS ANGELES CA   1,595,037    144,132 \n",
      "3        MIAMI FL   1,339,155     17,675 \n",
      "4  SILICON VALLEY   1,177,609     27,247 \n",
      "<class 'pandas.core.frame.DataFrame'>\n",
      "RangeIndex: 20 entries, 0 to 19\n",
      "Data columns (total 3 columns):\n",
      "City          20 non-null object\n",
      "Population    20 non-null object\n",
      "Users         20 non-null object\n",
      "dtypes: object(3)\n",
      "memory usage: 560.0+ bytes\n",
      "None\n"
     ]
    }
   ],
   "source": [
    "# -- City data --\n",
    "'''\n",
    "Data of population and total number of cab users in each city.\n",
    "Users - Assuming users of all types of cabs (including the Yellow and Pink cabs)\n",
    "'''\n",
    "print(city_data.head())\n",
    "print(city_data.info())\n",
    "\n",
    "## Total no. of entries = 20; No. of features = 3\n",
    "## No missing values\n"
   ]
  },
  {
   "cell_type": "code",
   "execution_count": 4,
   "metadata": {},
   "outputs": [
    {
     "name": "stdout",
     "output_type": "stream",
     "text": [
      "<class 'pandas.core.frame.DataFrame'>\n",
      "RangeIndex: 49171 entries, 0 to 49170\n",
      "Data columns (total 4 columns):\n",
      "Customer ID           49171 non-null int64\n",
      "Gender                49171 non-null object\n",
      "Age                   49171 non-null int64\n",
      "Income (USD/Month)    49171 non-null int64\n",
      "dtypes: int64(3), object(1)\n",
      "memory usage: 1.5+ MB\n",
      "None\n",
      "   Customer ID Gender  Age  Income (USD/Month)\n",
      "0        29290   Male   28               10813\n",
      "1        27703   Male   27                9237\n",
      "2        28712   Male   53               11242\n",
      "3        28020   Male   23               23327\n",
      "4        27182   Male   33                8536\n"
     ]
    }
   ],
   "source": [
    "# -- Customer data --\n",
    "'''\n",
    "Data of customers subscribed with the two cab companies.\n",
    "Their Gender, Customer ID, Age and Income (USD/Month) given here.\n",
    "'''\n",
    "print(customer_data.info())\n",
    "print(customer_data.head())\n",
    "## Total no. of entries = 49171; No. of features = 4\n",
    "## No missing values\n",
    "\n",
    "# THIS DATA CAN BE JOINED WITH TRANSACTION DATA USING 'Customer ID'"
   ]
  },
  {
   "cell_type": "code",
   "execution_count": 21,
   "metadata": {},
   "outputs": [
    {
     "name": "stdout",
     "output_type": "stream",
     "text": [
      "<class 'pandas.core.frame.DataFrame'>\n",
      "RangeIndex: 440098 entries, 0 to 440097\n",
      "Data columns (total 3 columns):\n",
      "Transaction ID    440098 non-null int64\n",
      "Customer ID       440098 non-null int64\n",
      "Payment_Mode      440098 non-null object\n",
      "dtypes: int64(2), object(1)\n",
      "memory usage: 10.1+ MB\n",
      "None\n",
      "   Transaction ID  Customer ID Payment_Mode\n",
      "0        10000011        29290         Card\n",
      "1        10000012        27703         Card\n",
      "2        10000013        28712         Cash\n",
      "3        10000014        28020         Cash\n",
      "4        10000015        27182         Card\n"
     ]
    }
   ],
   "source": [
    "# -- Transaction data -- \n",
    "'''\n",
    "Data containing the mode of transaction for each ride in the Yellow/Pink cab.\n",
    "'''\n",
    "print(transaction_data.info())\n",
    "print(transaction_data.head())\n",
    "## Total no. of entries = 440098;  No. of features = 3\n",
    "## No missing values\n",
    "\n",
    "# CAN JOIN TRANSACTION AND CUSTOMER DATA USING 'Customer ID'\n"
   ]
  },
  {
   "cell_type": "code",
   "execution_count": 11,
   "metadata": {},
   "outputs": [
    {
     "name": "stdout",
     "output_type": "stream",
     "text": [
      "(359392, 10)\n",
      "  Travel_Date  Transaction ID  Date of Travel   Company        City  \\\n",
      "0  2016-01-08        10000011           42377  Pink Cab  ATLANTA GA   \n",
      "1  2016-01-06        10000012           42375  Pink Cab  ATLANTA GA   \n",
      "2  2016-01-02        10000013           42371  Pink Cab  ATLANTA GA   \n",
      "3  2016-01-07        10000014           42376  Pink Cab  ATLANTA GA   \n",
      "4  2016-01-03        10000015           42372  Pink Cab  ATLANTA GA   \n",
      "\n",
      "   KM Travelled  Price Charged  Cost of Trip Population     Users  \n",
      "0         30.45         370.95       313.635   814,885    24,701   \n",
      "1         28.62         358.52       334.854   814,885    24,701   \n",
      "2          9.04         125.20        97.632   814,885    24,701   \n",
      "3         33.17         377.40       351.602   814,885    24,701   \n",
      "4          8.73         114.62        97.776   814,885    24,701   \n",
      "Travel_Date       False\n",
      "Transaction ID    False\n",
      "Date of Travel    False\n",
      "Company           False\n",
      "City              False\n",
      "KM Travelled      False\n",
      "Price Charged     False\n",
      "Cost of Trip      False\n",
      "Population        False\n",
      "Users             False\n",
      "dtype: bool\n",
      "Series([], Name: City, dtype: object)\n"
     ]
    }
   ],
   "source": [
    "# INNER JOIN BETWEEN THE RIDE DATA AND CITY DATA\n",
    "\n",
    "ride_city_out = pd.merge(ride_data, city_data, how = 'inner', on = 'City')\n",
    "print(ride_city_out.shape)\n",
    "print(ride_city_out.head())\n",
    "print(ride_city_out.isnull().any())\n",
    "\n",
    "# SAN FRANCISCO CA - NO RIDE DATA AVAILABLE WITH THE YELLOW AND PINK CABS !!!!!!!!!!!!!!!!!!!!!!!\n",
    "# ON DROPPING SAN FRANCISCO CA, NO NULL VALUES IN ALL COLUMNS ----------- DELETE THIS LINE"
   ]
  },
  {
   "cell_type": "code",
   "execution_count": 26,
   "metadata": {},
   "outputs": [
    {
     "name": "stdout",
     "output_type": "stream",
     "text": [
      "   Transaction ID  Customer ID Payment_Mode Gender  Age  Income (USD/Month)\n",
      "0        10000011        29290         Card   Male   28               10813\n",
      "1        10351127        29290         Cash   Male   28               10813\n",
      "2        10412921        29290         Card   Male   28               10813\n",
      "3        10000012        27703         Card   Male   27                9237\n",
      "4        10320494        27703         Card   Male   27                9237\n",
      "(440098, 6)\n",
      "Transaction ID        False\n",
      "Customer ID           False\n",
      "Payment_Mode          False\n",
      "Gender                False\n",
      "Age                   False\n",
      "Income (USD/Month)    False\n",
      "dtype: bool\n"
     ]
    }
   ],
   "source": [
    "# INNER JOIN BETWEEN TRANSACTION AND CUSTOMER DATA\n",
    "transaction_out_cust = pd.merge(transaction_data, customer_data, how = 'inner', on = 'Customer ID')\n",
    "\n",
    "print(transaction_out_cust.head())\n",
    "print(transaction_out_cust.shape)\n",
    "print(transaction_out_cust.isnull().any())\n",
    "# NO NULL VALUES AFTER JOINING TRANSACTION AND CUSTOMER DATA"
   ]
  },
  {
   "cell_type": "code",
   "execution_count": 33,
   "metadata": {},
   "outputs": [
    {
     "name": "stdout",
     "output_type": "stream",
     "text": [
      "(359392, 15)\n",
      "Travel_Date           0\n",
      "Transaction ID        0\n",
      "Date of Travel        0\n",
      "Company               0\n",
      "City                  0\n",
      "KM Travelled          0\n",
      "Price Charged         0\n",
      "Cost of Trip          0\n",
      "Population            0\n",
      "Users                 0\n",
      "Customer ID           0\n",
      "Payment_Mode          0\n",
      "Gender                0\n",
      "Age                   0\n",
      "Income (USD/Month)    0\n",
      "dtype: int64\n"
     ]
    }
   ],
   "source": [
    "# INNER JOIN BETWEEN ride_city_out and transaction_out_cust dataframes\n",
    "Final_table = pd.merge(ride_city_out, transaction_out_cust, how = 'inner', on = 'Transaction ID')\n",
    "print(Final_table.shape)\n",
    "Final_table = Final_table.sort_values('Travel_Date', ascending = True)\n",
    "\n",
    "# FIRST RECORDED DATE OF CAB RIDE: 2016-01-02\n",
    "# LAST RECORDED DATE OF CAB RIDE: 2018-12-31\n",
    "print(Final_table.isnull().sum())\n",
    "\n",
    "# WHEN USED 'OUTER' JOIN, GOT NULL VALUES IN THE COLUMNS - 'Travel_Date', 'Date of Travel', 'Company', 'City',\n",
    "#                               'KM Travelled', 'Price Charged', 'Cost of Trip', 'Population', 'Users'\n",
    "# NO. OF ROWS WITH NULL VALUES = 80706\n",
    "# HOWEVER WITH 'INNER' JOIN, THE NUMBER OF OBSERVATIONS DROP BY 80706\n",
    "# I MIGHT HAVE LOST CERTAIN AMOUNT OF DATA OF CUSTOMERS (AGE, INCOME/MONTH, GENDER)\n",
    "# THE DATA LOST DIDN'T HAVE ANY DETAILS ABOUT THE RIDE, BUT ONLY CUSTOMER ID, AGE AND GENDER ARE PRESENT\n",
    "\n",
    "# TRANSACTION ID, CUSTOMER_ID AND PAYMENT MODE NOT USEFUL IN FURTHER ANALYSIS"
   ]
  },
  {
   "cell_type": "code",
   "execution_count": 42,
   "metadata": {},
   "outputs": [
    {
     "name": "stdout",
     "output_type": "stream",
     "text": [
      "(359392, 15)\n",
      "Travel_Date           False\n",
      "Transaction ID        False\n",
      "Date of Travel        False\n",
      "Company               False\n",
      "City                  False\n",
      "KM Travelled          False\n",
      "Price Charged         False\n",
      "Cost of Trip          False\n",
      "Population            False\n",
      "Users                 False\n",
      "Customer ID           False\n",
      "Payment_Mode          False\n",
      "Gender                False\n",
      "Age                   False\n",
      "Income (USD/Month)    False\n",
      "dtype: bool\n"
     ]
    }
   ],
   "source": [
    "# DROP THE UNNECESSARY COLUMNS\n",
    "# Final_2 = Final_table.drop(['Transaction ID', 'Customer ID', 'Payment_Mode'], axis = 1, inplace = False)\n",
    "# print(Final_2.shape)\n",
    "\n",
    "print(Final_table.shape)\n",
    "print(Final_table.isnull().any())\n",
    "\n",
    "# ---- DELETE THIS CELL ----\n",
    "\n",
    "# To check duplicate rows\n",
    "# duplicated_rows = Modified.duplicated(subset = None, keep = 'first')\n",
    "# No_dupl_modified = Modified.drop_duplicates(subset = None, keep = False)\n",
    "# print(No_dupl_modified.shape)\n",
    "# print(No_dupl_modified[No_dupl_modified.isnull()])"
   ]
  },
  {
   "cell_type": "code",
   "execution_count": 50,
   "metadata": {},
   "outputs": [
    {
     "name": "stdout",
     "output_type": "stream",
     "text": [
      "<class 'pandas.core.frame.DataFrame'>\n",
      "RangeIndex: 342 entries, 0 to 341\n",
      "Data columns (total 6 columns):\n",
      "Date       342 non-null object\n",
      "Holiday    342 non-null object\n",
      "WeekDay    342 non-null object\n",
      "Month      342 non-null int64\n",
      "Day        342 non-null int64\n",
      "Year       342 non-null int64\n",
      "dtypes: int64(3), object(3)\n",
      "memory usage: 16.1+ KB\n",
      "None\n",
      "         Date                      Holiday WeekDay  Month  Day  Year\n",
      "0  2016-01-18  Martin Luther King, Jr. Day  Monday      1   18  2016\n",
      "1  2016-02-14              Valentine’s Day  Sunday      2   14  2016\n",
      "2  2016-02-15        Washington's Birthday  Monday      2   15  2016\n",
      "3  2016-03-27               Western Easter  Sunday      3   27  2016\n",
      "4  2016-05-01               Eastern Easter  Sunday      5    1  2016\n"
     ]
    }
   ],
   "source": [
    "# ACQUIRING THIRD PARTY DATASET - US HOLIDAY DATASET (2004 - 2021)\n",
    "usholiday_data = pd.read_csv('~/Downloads/US Holiday Dates (2004-2021).csv')\n",
    "print(usholiday_data.info())\n",
    "## Total no. of entries = 342; Total no. of features = 6\n",
    "## No missing values\n",
    "# print(usholiday_data.head())\n",
    "\n",
    "# Subsetting the US Holiday dataset based on the start and end date of the cab ride data\n",
    "start_date = '2016-01-02'\n",
    "end_date = '2018-12-31'\n",
    "\n",
    "usholiday_final = usholiday_data[(usholiday_data['Date'] >= start_date) & (usholiday_data['Date'] <= end_date)]\n",
    "usholiday_final = usholiday_final.sort_values('Date', ascending = True).reset_index(drop = True)\n",
    "print(usholiday_final.head())"
   ]
  },
  {
   "cell_type": "code",
   "execution_count": 53,
   "metadata": {},
   "outputs": [
    {
     "name": "stdout",
     "output_type": "stream",
     "text": [
      "(359854, 21)\n",
      "  Travel_Date  Transaction ID  Date of Travel     Company         City  \\\n",
      "0  2016-01-02        10000832           42371  Yellow Cab  NEW YORK NY   \n",
      "1  2016-01-02        10000670           42371  Yellow Cab    DALLAS TX   \n",
      "2  2016-01-02        10001234           42371  Yellow Cab   SEATTLE WA   \n",
      "3  2016-01-02        10000845           42371  Yellow Cab  NEW YORK NY   \n",
      "4  2016-01-02        10001232           42371  Yellow Cab   SEATTLE WA   \n",
      "\n",
      "   KM Travelled  Price Charged  Cost of Trip   Population      Users  ...   \\\n",
      "0         29.29         907.43      369.0540   8,405,837    302,149   ...    \n",
      "1         20.90         619.66      258.3240     942,908     22,157   ...    \n",
      "2         39.60        1119.67      541.7280     671,238     25,063   ...    \n",
      "3         17.92         561.71      253.7472   8,405,837    302,149   ...    \n",
      "4         16.24         540.27      210.4704     671,238     25,063   ...    \n",
      "\n",
      "   Payment_Mode Gender Age  Income (USD/Month)  Date Holiday WeekDay Month  \\\n",
      "0          Card   Male  20               22359   NaN     NaN     NaN   NaN   \n",
      "1          Cash   Male  18                7806   NaN     NaN     NaN   NaN   \n",
      "2          Cash   Male  36                6577   NaN     NaN     NaN   NaN   \n",
      "3          Card   Male  32               21212   NaN     NaN     NaN   NaN   \n",
      "4          Card   Male  18               22205   NaN     NaN     NaN   NaN   \n",
      "\n",
      "   Day  Year  \n",
      "0  NaN   NaN  \n",
      "1  NaN   NaN  \n",
      "2  NaN   NaN  \n",
      "3  NaN   NaN  \n",
      "4  NaN   NaN  \n",
      "\n",
      "[5 rows x 21 columns]\n",
      "(359854, 20)\n"
     ]
    }
   ],
   "source": [
    "# JOINING THE FINAL DATA AND US HOLIDAY DATA\n",
    "# THIS DATA WILL BE USED LATER IN THE ANALYSIS\n",
    "# FOR THAT CASE, USE INNER JOIN FOR THE BELOW MERGE\n",
    "final_merged_data = pd.merge(Final_table, usholiday_final, how = 'outer', left_on = 'Travel_Date', right_on = 'Date', sort = True)\n",
    "print(final_merged_data.shape)\n",
    "print(final_merged_data.head())\n",
    "\n",
    "# Dropping 'Date column'\n",
    "final_merged_data_new = final_merged_data.drop('Date', axis = 1)\n",
    "print(final_merged_data_new.shape)\n",
    "## TOTAL NO. OF FEATURES = 17; TOTAL NO. OF OBSERVATIONS = 359854\n",
    "\n",
    "# NEXT STEP, FILL OUT THE DATA INTAKE REPORT.\n",
    "# FROM THAT, UNDERSTAND WHAT OTHER FEATURES ARE NEEDED.\n",
    "# THEN START EDA BY DOING UNIVARIATE AND BIVARIATE ANALYSIS."
   ]
  },
  {
   "cell_type": "code",
   "execution_count": 30,
   "metadata": {},
   "outputs": [
    {
     "name": "stdout",
     "output_type": "stream",
     "text": [
      "<class 'pandas.core.frame.DataFrame'>\n",
      "Int64Index: 440098 entries, 0 to 440097\n",
      "Data columns (total 10 columns):\n",
      "Travel_Date       359392 non-null object\n",
      "Transaction ID    440098 non-null int64\n",
      "Date of Travel    359392 non-null float64\n",
      "Company           359392 non-null object\n",
      "City              359392 non-null object\n",
      "KM Travelled      359392 non-null float64\n",
      "Price Charged     359392 non-null float64\n",
      "Cost of Trip      359392 non-null float64\n",
      "Customer ID       440098 non-null int64\n",
      "Payment_Mode      440098 non-null object\n",
      "dtypes: float64(4), int64(2), object(4)\n",
      "memory usage: 36.9+ MB\n",
      "None\n",
      "Travel_Date       80706\n",
      "Transaction ID        0\n",
      "Date of Travel    80706\n",
      "Company           80706\n",
      "City              80706\n",
      "KM Travelled      80706\n",
      "Price Charged     80706\n",
      "Cost of Trip      80706\n",
      "Customer ID           0\n",
      "Payment_Mode          0\n",
      "dtype: int64\n"
     ]
    }
   ],
   "source": [
    "# Outer join between ride data and transaction data\n",
    "ride_transaction = pd.merge(ride_data, transaction_data, on = 'Transaction ID', how = 'outer')\n",
    "print(ride_transaction.info())\n",
    "print(ride_transaction.isna().sum())"
   ]
  },
  {
   "cell_type": "code",
   "execution_count": 29,
   "metadata": {},
   "outputs": [
    {
     "name": "stdout",
     "output_type": "stream",
     "text": [
      "   Transaction ID  Customer ID Payment_Mode Gender  Age  Income (USD/Month)\n",
      "0        10000011        29290         Card   Male   28               10813\n",
      "1        10351127        29290         Cash   Male   28               10813\n",
      "2        10412921        29290         Card   Male   28               10813\n",
      "3        10000012        27703         Card   Male   27                9237\n",
      "4        10320494        27703         Card   Male   27                9237\n",
      "<class 'pandas.core.frame.DataFrame'>\n",
      "Int64Index: 440098 entries, 0 to 440097\n",
      "Data columns (total 6 columns):\n",
      "Transaction ID        440098 non-null int64\n",
      "Customer ID           440098 non-null int64\n",
      "Payment_Mode          440098 non-null object\n",
      "Gender                440098 non-null object\n",
      "Age                   440098 non-null int64\n",
      "Income (USD/Month)    440098 non-null int64\n",
      "dtypes: int64(4), object(2)\n",
      "memory usage: 23.5+ MB\n",
      "None\n",
      "  Travel_Date  Transaction ID   Company        City  KM Travelled  \\\n",
      "0  2016-01-08        10000011  Pink Cab  ATLANTA GA         30.45   \n",
      "1  2016-01-06        10000012  Pink Cab  ATLANTA GA         28.62   \n",
      "2  2016-01-02        10000013  Pink Cab  ATLANTA GA          9.04   \n",
      "3  2016-01-07        10000014  Pink Cab  ATLANTA GA         33.17   \n",
      "4  2016-01-03        10000015  Pink Cab  ATLANTA GA          8.73   \n",
      "\n",
      "   Price Charged  Cost of Trip  Customer ID Payment_Mode Gender  Age  \\\n",
      "0         370.95       313.635        29290         Card   Male   28   \n",
      "1         358.52       334.854        27703         Card   Male   27   \n",
      "2         125.20        97.632        28712         Cash   Male   53   \n",
      "3         377.40       351.602        28020         Cash   Male   23   \n",
      "4         114.62        97.776        27182         Card   Male   33   \n",
      "\n",
      "   Income (USD/Month)  \n",
      "0               10813  \n",
      "1                9237  \n",
      "2               11242  \n",
      "3               23327  \n",
      "4                8536  \n",
      "<class 'pandas.core.frame.DataFrame'>\n",
      "Int64Index: 440098 entries, 0 to 440097\n",
      "Data columns (total 12 columns):\n",
      "Travel_Date           359392 non-null object\n",
      "Transaction ID        440098 non-null int64\n",
      "Company               359392 non-null object\n",
      "City                  359392 non-null object\n",
      "KM Travelled          359392 non-null float64\n",
      "Price Charged         359392 non-null float64\n",
      "Cost of Trip          359392 non-null float64\n",
      "Customer ID           440098 non-null int64\n",
      "Payment_Mode          440098 non-null object\n",
      "Gender                440098 non-null object\n",
      "Age                   440098 non-null int64\n",
      "Income (USD/Month)    440098 non-null int64\n",
      "dtypes: float64(3), int64(4), object(5)\n",
      "memory usage: 43.6+ MB\n",
      "None\n",
      "Travel_Date           80706\n",
      "Transaction ID            0\n",
      "Company               80706\n",
      "City                  80706\n",
      "KM Travelled          80706\n",
      "Price Charged         80706\n",
      "Cost of Trip          80706\n",
      "Customer ID               0\n",
      "Payment_Mode              0\n",
      "Gender                    0\n",
      "Age                       0\n",
      "Income (USD/Month)        0\n",
      "dtype: int64\n"
     ]
    }
   ],
   "source": [
    "# Inner join between transaction and customer data.\n",
    "result = pd.merge(transaction_data, customer_data, on = 'Customer ID', how = 'inner')\n",
    "print(result.head())\n",
    "print(result.info())\n",
    "\n",
    "result1 = pd.merge(ride_data.drop('Date of Travel', axis = 1), result, on = 'Transaction ID', how = 'outer')\n",
    "print(result1.head())\n",
    "print(result1.info())\n",
    "print(result1.isna().sum())"
   ]
  },
  {
   "cell_type": "code",
   "execution_count": null,
   "metadata": {},
   "outputs": [],
   "source": []
  }
 ],
 "metadata": {
  "kernelspec": {
   "display_name": "Python 3",
   "language": "python",
   "name": "python3"
  },
  "language_info": {
   "codemirror_mode": {
    "name": "ipython",
    "version": 3
   },
   "file_extension": ".py",
   "mimetype": "text/x-python",
   "name": "python",
   "nbconvert_exporter": "python",
   "pygments_lexer": "ipython3",
   "version": "3.7.1"
  }
 },
 "nbformat": 4,
 "nbformat_minor": 2
}
